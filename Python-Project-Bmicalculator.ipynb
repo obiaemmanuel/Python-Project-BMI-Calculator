{
 "cells": [
  {
   "cell_type": "markdown",
   "id": "df5de0ac-3362-47ce-95ff-2b6eec610fba",
   "metadata": {},
   "source": [
    "# BMI CALCULATOR  "
   ]
  },
  {
   "cell_type": "code",
   "execution_count": 25,
   "id": "d6af3d19-10af-4e48-9682-e0ad630bad1e",
   "metadata": {},
   "outputs": [
    {
     "name": "stdin",
     "output_type": "stream",
     "text": [
      "Enter your name:  Emma\n",
      "Enter your weight in pounds:  150\n",
      "Enter your height in inches:  43\n"
     ]
    },
    {
     "name": "stdout",
     "output_type": "stream",
     "text": [
      "57.030827474310435\n",
      "Emma, watch your weight\n"
     ]
    }
   ],
   "source": [
    "name = input(\"Enter your name: \")\n",
    "weight = int(input(\"Enter your weight in pounds: \"))\n",
    "height = int(input(\"Enter your height in inches: \"))\n",
    "BMI = (weight * 703) / (height * height)\n",
    "print(BMI)\n",
    "\n",
    "if BMI > 0:\n",
    "    if(BMI < 18.5):\n",
    "       print(name + \", You are underweight.\")\n",
    "    elif(18.5 < BMI <= 24.9):\n",
    "        print(name + \", you are normal weight\")\n",
    "    elif(24.9 < BMI <= 29.9):\n",
    "         print(name + \", you are obese\")\n",
    "    elif(29.9 < BMI <= 35):\n",
    "         print(name + \", you are overweight\")\n",
    "    elif(35 < BMI <= 40):\n",
    "         print(name + \" , you are severely overweight\")\n",
    "    else:\n",
    "        print(name + \", watch your weight\") \n",
    "    \n",
    "\n"
   ]
  },
  {
   "cell_type": "code",
   "execution_count": 18,
   "id": "2672caf9-f77d-4338-820a-21c4c60a1857",
   "metadata": {},
   "outputs": [
    {
     "name": "stdout",
     "output_type": "stream",
     "text": [
      "140\n"
     ]
    }
   ],
   "source": [
    "print (weight)"
   ]
  },
  {
   "cell_type": "code",
   "execution_count": 21,
   "id": "e1332d78-02cb-4151-9eb3-f2d1020aa4dd",
   "metadata": {},
   "outputs": [
    {
     "name": "stdout",
     "output_type": "stream",
     "text": [
      "OBIA , you are severely overweight\n"
     ]
    }
   ],
   "source": [
    "if BMI > 0:\n",
    "    if(BMI < 18.5):\n",
    "       print(name + \", You are underweight.\")\n",
    "    elif(18.5 < BMI <= 24.9):\n",
    "        print(name + \", you are normal weight\")\n",
    "    elif(24.9 < BMI <= 29.9):\n",
    "         print(name + \", you are obese\")\n",
    "    elif(29.9 < BMI <= 35):\n",
    "         print(name + \", you are overweight\")\n",
    "    elif(35 < BMI <= 40):\n",
    "         print(name + \" , you are severely overweight\")\n",
    "else:\n",
    "    print(name + \", watch your weight\") "
   ]
  },
  {
   "cell_type": "code",
   "execution_count": null,
   "id": "1333957a-a60d-4321-86e0-7c96a2191d79",
   "metadata": {},
   "outputs": [],
   "source": []
  },
  {
   "cell_type": "code",
   "execution_count": null,
   "id": "afac2b93-f24b-44e7-984a-56d0edc6cbe6",
   "metadata": {},
   "outputs": [],
   "source": []
  }
 ],
 "metadata": {
  "kernelspec": {
   "display_name": "Python 3 (ipykernel)",
   "language": "python",
   "name": "python3"
  },
  "language_info": {
   "codemirror_mode": {
    "name": "ipython",
    "version": 3
   },
   "file_extension": ".py",
   "mimetype": "text/x-python",
   "name": "python",
   "nbconvert_exporter": "python",
   "pygments_lexer": "ipython3",
   "version": "3.11.7"
  }
 },
 "nbformat": 4,
 "nbformat_minor": 5
}
